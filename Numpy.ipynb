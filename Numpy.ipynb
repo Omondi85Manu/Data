{
 "cells": [
  {
   "cell_type": "markdown",
   "id": "2080430c",
   "metadata": {},
   "source": [
    "### Numpy\n",
    "Numpy is a linear algebra library for python"
   ]
  },
  {
   "cell_type": "markdown",
   "id": "b9bc7f81",
   "metadata": {},
   "source": [
    "### Creating Numpy Array"
   ]
  },
  {
   "cell_type": "code",
   "execution_count": 1,
   "id": "23dc2117",
   "metadata": {},
   "outputs": [],
   "source": [
    "import numpy as np"
   ]
  },
  {
   "cell_type": "code",
   "execution_count": 2,
   "id": "d8b0c6c1",
   "metadata": {},
   "outputs": [
    {
     "data": {
      "text/plain": [
       "[1, 2, 3]"
      ]
     },
     "execution_count": 2,
     "metadata": {},
     "output_type": "execute_result"
    }
   ],
   "source": [
    "my_list = [1,2,3]\n",
    "my_list"
   ]
  },
  {
   "cell_type": "code",
   "execution_count": 3,
   "id": "ae63209f",
   "metadata": {},
   "outputs": [
    {
     "data": {
      "text/plain": [
       "array([1, 2, 3])"
      ]
     },
     "execution_count": 3,
     "metadata": {},
     "output_type": "execute_result"
    }
   ],
   "source": [
    "np.array(my_list)"
   ]
  },
  {
   "cell_type": "code",
   "execution_count": 4,
   "id": "f7e8a5ad",
   "metadata": {},
   "outputs": [
    {
     "data": {
      "text/plain": [
       "[[1, 2, 4, 5], [6, 7, 16, 9]]"
      ]
     },
     "execution_count": 4,
     "metadata": {},
     "output_type": "execute_result"
    }
   ],
   "source": [
    "matrix = [[1,2,4,5], [6,7,16,9]]\n",
    "matrix"
   ]
  },
  {
   "cell_type": "code",
   "execution_count": 5,
   "id": "0f7a64af",
   "metadata": {},
   "outputs": [
    {
     "data": {
      "text/plain": [
       "(2, 4)"
      ]
     },
     "execution_count": 5,
     "metadata": {},
     "output_type": "execute_result"
    }
   ],
   "source": [
    "mat = np.array(matrix)\n",
    "mat.shape"
   ]
  },
  {
   "cell_type": "markdown",
   "id": "e1864935",
   "metadata": {},
   "source": [
    "### Built-in Methods"
   ]
  },
  {
   "cell_type": "markdown",
   "id": "24fcfd31",
   "metadata": {},
   "source": [
    "#### arange"
   ]
  },
  {
   "cell_type": "code",
   "execution_count": 6,
   "id": "8d740983",
   "metadata": {},
   "outputs": [
    {
     "data": {
      "text/plain": [
       "array([ 0,  1,  2,  3,  4,  5,  6,  7,  8,  9, 10, 11, 12, 13, 14, 15, 16,\n",
       "       17, 18, 19])"
      ]
     },
     "execution_count": 6,
     "metadata": {},
     "output_type": "execute_result"
    }
   ],
   "source": [
    "np.arange(0,20)"
   ]
  },
  {
   "cell_type": "code",
   "execution_count": 7,
   "id": "1eb4a575",
   "metadata": {},
   "outputs": [
    {
     "data": {
      "text/plain": [
       "array([ 0,  2,  4,  6,  8, 10, 12, 14, 16, 18])"
      ]
     },
     "execution_count": 7,
     "metadata": {},
     "output_type": "execute_result"
    }
   ],
   "source": [
    "vector = np.arange(0,20,2)\n",
    "vector"
   ]
  },
  {
   "cell_type": "code",
   "execution_count": 8,
   "id": "248aba5d",
   "metadata": {},
   "outputs": [
    {
     "data": {
      "text/plain": [
       "array([[ 0,  2,  4,  6,  8],\n",
       "       [10, 12, 14, 16, 18]])"
      ]
     },
     "execution_count": 8,
     "metadata": {},
     "output_type": "execute_result"
    }
   ],
   "source": [
    "vector.reshape(2,5)"
   ]
  },
  {
   "cell_type": "markdown",
   "id": "08b241eb",
   "metadata": {},
   "source": [
    "### Zeros and One\n",
    "Generate arrays of Zeros and ones"
   ]
  },
  {
   "cell_type": "code",
   "execution_count": 9,
   "id": "2f22b3dc",
   "metadata": {},
   "outputs": [
    {
     "data": {
      "text/plain": [
       "array([0., 0., 0., 0., 0., 0., 0., 0., 0., 0.])"
      ]
     },
     "execution_count": 9,
     "metadata": {},
     "output_type": "execute_result"
    }
   ],
   "source": [
    "np.zeros(10)"
   ]
  },
  {
   "cell_type": "code",
   "execution_count": 10,
   "id": "11bec8f2",
   "metadata": {},
   "outputs": [
    {
     "data": {
      "text/plain": [
       "array([[0., 0., 0., 0.],\n",
       "       [0., 0., 0., 0.],\n",
       "       [0., 0., 0., 0.],\n",
       "       [0., 0., 0., 0.]])"
      ]
     },
     "execution_count": 10,
     "metadata": {},
     "output_type": "execute_result"
    }
   ],
   "source": [
    "matrix_zero = np.zeros((4,4))\n",
    "matrix_zero"
   ]
  },
  {
   "cell_type": "code",
   "execution_count": 11,
   "id": "232adf52",
   "metadata": {},
   "outputs": [
    {
     "data": {
      "text/plain": [
       "array([1., 1., 1., 1., 1., 1., 1., 1., 1., 1.])"
      ]
     },
     "execution_count": 11,
     "metadata": {},
     "output_type": "execute_result"
    }
   ],
   "source": [
    "np.ones(10)"
   ]
  },
  {
   "cell_type": "code",
   "execution_count": 12,
   "id": "156c2425",
   "metadata": {},
   "outputs": [
    {
     "data": {
      "text/plain": [
       "array([[1., 1., 1.],\n",
       "       [1., 1., 1.],\n",
       "       [1., 1., 1.]])"
      ]
     },
     "execution_count": 12,
     "metadata": {},
     "output_type": "execute_result"
    }
   ],
   "source": [
    "np.ones((3,3))"
   ]
  },
  {
   "cell_type": "markdown",
   "id": "3c733d8a",
   "metadata": {},
   "source": [
    "### Linspace\n",
    "numpy.linspace(start, stop, num=50, endpoint=True, retsep= False, dtype=None, axis=0)"
   ]
  },
  {
   "cell_type": "code",
   "execution_count": 13,
   "id": "93a224f2",
   "metadata": {},
   "outputs": [
    {
     "data": {
      "text/plain": [
       "array([ 1.        ,  1.18367347,  1.36734694,  1.55102041,  1.73469388,\n",
       "        1.91836735,  2.10204082,  2.28571429,  2.46938776,  2.65306122,\n",
       "        2.83673469,  3.02040816,  3.20408163,  3.3877551 ,  3.57142857,\n",
       "        3.75510204,  3.93877551,  4.12244898,  4.30612245,  4.48979592,\n",
       "        4.67346939,  4.85714286,  5.04081633,  5.2244898 ,  5.40816327,\n",
       "        5.59183673,  5.7755102 ,  5.95918367,  6.14285714,  6.32653061,\n",
       "        6.51020408,  6.69387755,  6.87755102,  7.06122449,  7.24489796,\n",
       "        7.42857143,  7.6122449 ,  7.79591837,  7.97959184,  8.16326531,\n",
       "        8.34693878,  8.53061224,  8.71428571,  8.89795918,  9.08163265,\n",
       "        9.26530612,  9.44897959,  9.63265306,  9.81632653, 10.        ])"
      ]
     },
     "execution_count": 13,
     "metadata": {},
     "output_type": "execute_result"
    }
   ],
   "source": [
    "np.linspace(1,10)"
   ]
  },
  {
   "cell_type": "code",
   "execution_count": 14,
   "id": "be285dd6",
   "metadata": {},
   "outputs": [
    {
     "data": {
      "text/plain": [
       "array([ 1.        ,  1.18367347,  1.36734694,  1.55102041,  1.73469388,\n",
       "        1.91836735,  2.10204082,  2.28571429,  2.46938776,  2.65306122,\n",
       "        2.83673469,  3.02040816,  3.20408163,  3.3877551 ,  3.57142857,\n",
       "        3.75510204,  3.93877551,  4.12244898,  4.30612245,  4.48979592,\n",
       "        4.67346939,  4.85714286,  5.04081633,  5.2244898 ,  5.40816327,\n",
       "        5.59183673,  5.7755102 ,  5.95918367,  6.14285714,  6.32653061,\n",
       "        6.51020408,  6.69387755,  6.87755102,  7.06122449,  7.24489796,\n",
       "        7.42857143,  7.6122449 ,  7.79591837,  7.97959184,  8.16326531,\n",
       "        8.34693878,  8.53061224,  8.71428571,  8.89795918,  9.08163265,\n",
       "        9.26530612,  9.44897959,  9.63265306,  9.81632653, 10.        ])"
      ]
     },
     "execution_count": 14,
     "metadata": {},
     "output_type": "execute_result"
    }
   ],
   "source": [
    "np.linspace(1,10,)"
   ]
  },
  {
   "cell_type": "code",
   "execution_count": 15,
   "id": "cf26acda",
   "metadata": {},
   "outputs": [
    {
     "data": {
      "text/plain": [
       "array([ 0.        ,  0.1010101 ,  0.2020202 ,  0.3030303 ,  0.4040404 ,\n",
       "        0.50505051,  0.60606061,  0.70707071,  0.80808081,  0.90909091,\n",
       "        1.01010101,  1.11111111,  1.21212121,  1.31313131,  1.41414141,\n",
       "        1.51515152,  1.61616162,  1.71717172,  1.81818182,  1.91919192,\n",
       "        2.02020202,  2.12121212,  2.22222222,  2.32323232,  2.42424242,\n",
       "        2.52525253,  2.62626263,  2.72727273,  2.82828283,  2.92929293,\n",
       "        3.03030303,  3.13131313,  3.23232323,  3.33333333,  3.43434343,\n",
       "        3.53535354,  3.63636364,  3.73737374,  3.83838384,  3.93939394,\n",
       "        4.04040404,  4.14141414,  4.24242424,  4.34343434,  4.44444444,\n",
       "        4.54545455,  4.64646465,  4.74747475,  4.84848485,  4.94949495,\n",
       "        5.05050505,  5.15151515,  5.25252525,  5.35353535,  5.45454545,\n",
       "        5.55555556,  5.65656566,  5.75757576,  5.85858586,  5.95959596,\n",
       "        6.06060606,  6.16161616,  6.26262626,  6.36363636,  6.46464646,\n",
       "        6.56565657,  6.66666667,  6.76767677,  6.86868687,  6.96969697,\n",
       "        7.07070707,  7.17171717,  7.27272727,  7.37373737,  7.47474747,\n",
       "        7.57575758,  7.67676768,  7.77777778,  7.87878788,  7.97979798,\n",
       "        8.08080808,  8.18181818,  8.28282828,  8.38383838,  8.48484848,\n",
       "        8.58585859,  8.68686869,  8.78787879,  8.88888889,  8.98989899,\n",
       "        9.09090909,  9.19191919,  9.29292929,  9.39393939,  9.49494949,\n",
       "        9.5959596 ,  9.6969697 ,  9.7979798 ,  9.8989899 , 10.        ])"
      ]
     },
     "execution_count": 15,
     "metadata": {},
     "output_type": "execute_result"
    }
   ],
   "source": [
    "my_linspace = np.linspace(0,10,100)\n",
    "my_linspace"
   ]
  },
  {
   "cell_type": "code",
   "execution_count": 16,
   "id": "24d97cce",
   "metadata": {},
   "outputs": [
    {
     "data": {
      "text/plain": [
       "array([[ 0.        ,  0.1010101 ,  0.2020202 ,  0.3030303 ,  0.4040404 ],\n",
       "       [ 0.50505051,  0.60606061,  0.70707071,  0.80808081,  0.90909091],\n",
       "       [ 1.01010101,  1.11111111,  1.21212121,  1.31313131,  1.41414141],\n",
       "       [ 1.51515152,  1.61616162,  1.71717172,  1.81818182,  1.91919192],\n",
       "       [ 2.02020202,  2.12121212,  2.22222222,  2.32323232,  2.42424242],\n",
       "       [ 2.52525253,  2.62626263,  2.72727273,  2.82828283,  2.92929293],\n",
       "       [ 3.03030303,  3.13131313,  3.23232323,  3.33333333,  3.43434343],\n",
       "       [ 3.53535354,  3.63636364,  3.73737374,  3.83838384,  3.93939394],\n",
       "       [ 4.04040404,  4.14141414,  4.24242424,  4.34343434,  4.44444444],\n",
       "       [ 4.54545455,  4.64646465,  4.74747475,  4.84848485,  4.94949495],\n",
       "       [ 5.05050505,  5.15151515,  5.25252525,  5.35353535,  5.45454545],\n",
       "       [ 5.55555556,  5.65656566,  5.75757576,  5.85858586,  5.95959596],\n",
       "       [ 6.06060606,  6.16161616,  6.26262626,  6.36363636,  6.46464646],\n",
       "       [ 6.56565657,  6.66666667,  6.76767677,  6.86868687,  6.96969697],\n",
       "       [ 7.07070707,  7.17171717,  7.27272727,  7.37373737,  7.47474747],\n",
       "       [ 7.57575758,  7.67676768,  7.77777778,  7.87878788,  7.97979798],\n",
       "       [ 8.08080808,  8.18181818,  8.28282828,  8.38383838,  8.48484848],\n",
       "       [ 8.58585859,  8.68686869,  8.78787879,  8.88888889,  8.98989899],\n",
       "       [ 9.09090909,  9.19191919,  9.29292929,  9.39393939,  9.49494949],\n",
       "       [ 9.5959596 ,  9.6969697 ,  9.7979798 ,  9.8989899 , 10.        ]])"
      ]
     },
     "execution_count": 16,
     "metadata": {},
     "output_type": "execute_result"
    }
   ],
   "source": [
    "my_linspace.reshape(20,5)"
   ]
  },
  {
   "cell_type": "markdown",
   "id": "eff30e38",
   "metadata": {},
   "source": [
    "### Eye\n",
    "Create an Identity Element"
   ]
  },
  {
   "cell_type": "code",
   "execution_count": 17,
   "id": "392ae7c9",
   "metadata": {},
   "outputs": [
    {
     "data": {
      "text/plain": [
       "array([[1., 0.],\n",
       "       [0., 1.]])"
      ]
     },
     "execution_count": 17,
     "metadata": {},
     "output_type": "execute_result"
    }
   ],
   "source": [
    "np.eye(2)"
   ]
  },
  {
   "cell_type": "markdown",
   "id": "b9779b77",
   "metadata": {},
   "source": [
    "### Random"
   ]
  },
  {
   "cell_type": "markdown",
   "id": "40e55fe2",
   "metadata": {},
   "source": [
    "#### rand\n",
    "Create an array for a given shape and populate a random sample from a uniform distribution over ``[0,1]``"
   ]
  },
  {
   "cell_type": "code",
   "execution_count": 18,
   "id": "131f5380",
   "metadata": {},
   "outputs": [
    {
     "data": {
      "text/plain": [
       "array([0.20184779, 0.06729813, 0.06304134, 0.56910393, 0.59982368])"
      ]
     },
     "execution_count": 18,
     "metadata": {},
     "output_type": "execute_result"
    }
   ],
   "source": [
    "# Vector\n",
    "np.random.rand(5)"
   ]
  },
  {
   "cell_type": "code",
   "execution_count": 19,
   "id": "c493a6fb",
   "metadata": {},
   "outputs": [
    {
     "data": {
      "text/plain": [
       "array([[6.83542798e-01, 3.07062638e-01, 8.01347659e-01, 9.71556166e-01,\n",
       "        3.47429107e-02],\n",
       "       [5.91581443e-01, 8.85697475e-01, 3.44168231e-05, 5.99294907e-01,\n",
       "        1.99523461e-01],\n",
       "       [9.25697403e-01, 3.44092683e-02, 8.81046772e-01, 8.31476073e-01,\n",
       "        2.37506647e-01],\n",
       "       [3.12124227e-01, 5.20801876e-01, 8.11835274e-01, 3.07515233e-01,\n",
       "        6.58685507e-01],\n",
       "       [2.29962520e-01, 8.60357847e-01, 6.79682004e-01, 6.62768248e-01,\n",
       "        1.94033363e-01]])"
      ]
     },
     "execution_count": 19,
     "metadata": {},
     "output_type": "execute_result"
    }
   ],
   "source": [
    "# Matrix\n",
    "np.random.rand(5,5)"
   ]
  },
  {
   "cell_type": "markdown",
   "id": "977a6d03",
   "metadata": {},
   "source": [
    "#### randn\n",
    "Return a sample from the \"Standard Noormal\" distribution. Unlike rand which returns uniform distribution ``-3 to 3``"
   ]
  },
  {
   "cell_type": "code",
   "execution_count": 20,
   "id": "7bf0cf41",
   "metadata": {},
   "outputs": [
    {
     "data": {
      "text/plain": [
       "array([ 0.46861303, -0.2037422 ])"
      ]
     },
     "execution_count": 20,
     "metadata": {},
     "output_type": "execute_result"
    }
   ],
   "source": [
    "np.random.randn(2)"
   ]
  },
  {
   "cell_type": "code",
   "execution_count": 21,
   "id": "37d2d37c",
   "metadata": {},
   "outputs": [
    {
     "data": {
      "text/plain": [
       "array([[ 0.34151884,  0.62636908, -0.08808544],\n",
       "       [-0.8669538 ,  0.47109949, -0.14763002],\n",
       "       [-0.91282472, -0.83168109, -0.01372585]])"
      ]
     },
     "execution_count": 21,
     "metadata": {},
     "output_type": "execute_result"
    }
   ],
   "source": [
    "np.random.randn(3,3)"
   ]
  },
  {
   "cell_type": "markdown",
   "id": "9c0067fb",
   "metadata": {},
   "source": [
    "#### randint\n",
    "Return random integers from ``low`` (inclusive) to ``high`` (exclusive)"
   ]
  },
  {
   "cell_type": "code",
   "execution_count": 22,
   "id": "78a30984",
   "metadata": {},
   "outputs": [
    {
     "data": {
      "text/plain": [
       "45"
      ]
     },
     "execution_count": 22,
     "metadata": {},
     "output_type": "execute_result"
    }
   ],
   "source": [
    "np.random.randint(1,100)"
   ]
  },
  {
   "cell_type": "code",
   "execution_count": 23,
   "id": "5f3cbbc2",
   "metadata": {},
   "outputs": [
    {
     "data": {
      "text/plain": [
       "array([30, 95, 99, 65, 65, 23, 80,  5, 72, 20])"
      ]
     },
     "execution_count": 23,
     "metadata": {},
     "output_type": "execute_result"
    }
   ],
   "source": [
    "np.random.randint(1,100,10)"
   ]
  },
  {
   "cell_type": "markdown",
   "id": "f49007d6",
   "metadata": {},
   "source": [
    "#### max, min, argmax, argmin"
   ]
  },
  {
   "cell_type": "code",
   "execution_count": 24,
   "id": "7c09500d",
   "metadata": {},
   "outputs": [
    {
     "data": {
      "text/plain": [
       "array([ 7, 13, 10, 12, 17,  5,  1, 12,  7,  8,  5, 15,  3,  5, 19,  5, 19,\n",
       "       13, 19, 13, 16,  9,  9,  1, 10, 11, 18,  8, 11,  4])"
      ]
     },
     "execution_count": 24,
     "metadata": {},
     "output_type": "execute_result"
    }
   ],
   "source": [
    "my_randomInt = np.random.randint(1, 20, 30)\n",
    "my_randomInt"
   ]
  },
  {
   "cell_type": "code",
   "execution_count": 25,
   "id": "ec7ba1b8",
   "metadata": {},
   "outputs": [
    {
     "data": {
      "text/plain": [
       "1"
      ]
     },
     "execution_count": 25,
     "metadata": {},
     "output_type": "execute_result"
    }
   ],
   "source": [
    "# Returns minimum value in randomInt\n",
    "my_randomInt.min()"
   ]
  },
  {
   "cell_type": "code",
   "execution_count": 26,
   "id": "b5308a87",
   "metadata": {},
   "outputs": [
    {
     "data": {
      "text/plain": [
       "19"
      ]
     },
     "execution_count": 26,
     "metadata": {},
     "output_type": "execute_result"
    }
   ],
   "source": [
    "# Returnd maximum value in randomInt\n",
    "my_randomInt.max()"
   ]
  },
  {
   "cell_type": "code",
   "execution_count": 27,
   "id": "d4210f2a",
   "metadata": {},
   "outputs": [
    {
     "data": {
      "text/plain": [
       "14"
      ]
     },
     "execution_count": 27,
     "metadata": {},
     "output_type": "execute_result"
    }
   ],
   "source": [
    "# Returns the index(position) of the max value\n",
    "my_randomInt.argmax()"
   ]
  },
  {
   "cell_type": "code",
   "execution_count": 28,
   "id": "ba71d78a",
   "metadata": {},
   "outputs": [
    {
     "data": {
      "text/plain": [
       "6"
      ]
     },
     "execution_count": 28,
     "metadata": {},
     "output_type": "execute_result"
    }
   ],
   "source": [
    "# Returns index of the minimum value\n",
    "my_randomInt.argmin()"
   ]
  },
  {
   "cell_type": "markdown",
   "id": "a7ff0d6d",
   "metadata": {},
   "source": [
    "#### shape\n",
    "Return the attributes of an array"
   ]
  },
  {
   "cell_type": "code",
   "execution_count": 29,
   "id": "ad028a81",
   "metadata": {},
   "outputs": [
    {
     "data": {
      "text/plain": [
       "(30,)"
      ]
     },
     "execution_count": 29,
     "metadata": {},
     "output_type": "execute_result"
    }
   ],
   "source": [
    "my_randomInt.shape"
   ]
  },
  {
   "cell_type": "markdown",
   "id": "78983ad3",
   "metadata": {},
   "source": [
    "#### dtype\n",
    "Returns the data type of the object"
   ]
  },
  {
   "cell_type": "code",
   "execution_count": 30,
   "id": "60bbd12c",
   "metadata": {},
   "outputs": [
    {
     "data": {
      "text/plain": [
       "dtype('float64')"
      ]
     },
     "execution_count": 30,
     "metadata": {},
     "output_type": "execute_result"
    }
   ],
   "source": [
    "my_linspace.dtype"
   ]
  },
  {
   "cell_type": "code",
   "execution_count": 31,
   "id": "595ca81e",
   "metadata": {},
   "outputs": [
    {
     "data": {
      "text/plain": [
       "array([1.00000000e+00, 1.10628782e+00, 1.22387273e+00, 1.35395549e+00,\n",
       "       1.49786447e+00, 1.65706921e+00, 1.83319548e+00, 2.02804182e+00,\n",
       "       2.24359796e+00, 2.48206508e+00, 2.74587836e+00, 3.03773178e+00,\n",
       "       3.36060565e+00, 3.71779709e+00, 4.11295363e+00, 4.55011049e+00,\n",
       "       5.03373179e+00, 5.56875615e+00, 6.16064708e+00, 6.81544881e+00,\n",
       "       7.53984798e+00, 8.34124196e+00, 9.22781435e+00, 1.02086186e+01,\n",
       "       1.12936704e+01, 1.24940499e+01, 1.38220152e+01, 1.52911270e+01,\n",
       "       1.69163875e+01, 1.87143934e+01, 2.07035054e+01, 2.29040358e+01,\n",
       "       2.53384558e+01, 2.80316249e+01, 3.10110451e+01, 3.43071414e+01,\n",
       "       3.79535725e+01, 4.19875748e+01, 4.64503425e+01, 5.13874480e+01,\n",
       "       5.68493076e+01, 6.28916963e+01, 6.95763174e+01, 7.69714323e+01,\n",
       "       8.51525577e+01, 9.42032371e+01, 1.04215893e+02, 1.15292773e+02,\n",
       "       1.27546990e+02, 1.41103681e+02, 1.56101284e+02, 1.72692948e+02,\n",
       "       1.91048105e+02, 2.11354190e+02, 2.33818566e+02, 2.58670631e+02,\n",
       "       2.86164167e+02, 3.16579931e+02, 3.50228521e+02, 3.87453546e+02,\n",
       "       4.28635137e+02, 4.74193830e+02, 5.24594856e+02, 5.80352898e+02,\n",
       "       6.42037340e+02, 7.10278087e+02, 7.85771994e+02, 8.69289984e+02,\n",
       "       9.61684918e+02, 1.06390031e+03, 1.17697995e+03, 1.30207858e+03,\n",
       "       1.44047367e+03, 1.59357847e+03, 1.76295644e+03, 1.95033723e+03,\n",
       "       2.15763432e+03, 2.38696456e+03, 2.64066981e+03, 2.92134083e+03,\n",
       "       3.23184377e+03, 3.57534939e+03, 3.95536547e+03, 4.37577263e+03,\n",
       "       4.84086395e+03, 5.35538880e+03, 5.92460138e+03, 6.55431433e+03,\n",
       "       7.25095809e+03, 8.02164659e+03, 8.87424989e+03, 9.81747453e+03,\n",
       "       1.08609525e+04, 1.20153394e+04, 1.32924236e+04, 1.47052462e+04,\n",
       "       1.62682347e+04, 1.79973499e+04, 1.99102489e+04, 2.20264658e+04])"
      ]
     },
     "execution_count": 31,
     "metadata": {},
     "output_type": "execute_result"
    }
   ],
   "source": [
    "# Calculating exponential\n",
    "exponent = np.exp(my_linspace)\n",
    "exponent"
   ]
  },
  {
   "cell_type": "code",
   "execution_count": 32,
   "id": "a01daba2",
   "metadata": {},
   "outputs": [
    {
     "name": "stderr",
     "output_type": "stream",
     "text": [
      "C:\\Users\\OMONDI\\AppData\\Local\\Temp\\ipykernel_5304\\2126815516.py:2: RuntimeWarning: divide by zero encountered in log\n",
      "  log = np.log(my_linspace)\n"
     ]
    },
    {
     "data": {
      "text/plain": [
       "array([       -inf, -2.29253476, -1.59938758, -1.19392247, -0.9062404 ,\n",
       "       -0.68309684, -0.50077529, -0.34662461, -0.21309322, -0.09531018,\n",
       "        0.01005034,  0.10536052,  0.19237189,  0.2724146 ,  0.34652257,\n",
       "        0.41551544,  0.48005397,  0.54067859,  0.597837  ,  0.65190422,\n",
       "        0.70319752,  0.75198768,  0.7985077 ,  0.84295946,  0.88551907,\n",
       "        0.92634107,  0.96556178,  1.00330211,  1.03966975,  1.07476107,\n",
       "        1.10866262,  1.14145245,  1.17320115,  1.2039728 ,  1.23382577,\n",
       "        1.2628133 ,  1.29098418,  1.31838316,  1.3450514 ,  1.37102689,\n",
       "        1.3963447 ,  1.42103731,  1.44513486,  1.46866536,  1.49165488,\n",
       "        1.51412773,  1.53610664,  1.55761284,  1.57866625,  1.59928554,\n",
       "        1.61948825,  1.63929088,  1.65870896,  1.67775716,  1.69644929,\n",
       "        1.71479843,  1.73281693,  1.75051651,  1.76790825,  1.78500269,\n",
       "        1.80180981,  1.81833911,  1.83459963,  1.85059997,  1.86634833,\n",
       "        1.88185251,  1.89711998,  1.91215786,  1.92697295,  1.94157175,\n",
       "        1.95596048,  1.97014512,  1.98413136,  1.99792468,  2.01153034,\n",
       "        2.02495336,  2.03819858,  2.05127066,  2.06417407,  2.0769131 ,\n",
       "        2.08949188,  2.1019144 ,  2.11418449,  2.12630585,  2.13828204,\n",
       "        2.1501165 ,  2.16181254,  2.17337336,  2.18480206,  2.19610161,\n",
       "        2.20727491,  2.21832475,  2.22925382,  2.24006474,  2.25076003,\n",
       "        2.26134213,  2.27181343,  2.28217622,  2.29243272,  2.30258509])"
      ]
     },
     "execution_count": 32,
     "metadata": {},
     "output_type": "execute_result"
    }
   ],
   "source": [
    "# Calculating log\n",
    "log = np.log(my_linspace)\n",
    "log"
   ]
  },
  {
   "cell_type": "code",
   "execution_count": 33,
   "id": "3f76fe7d",
   "metadata": {},
   "outputs": [
    {
     "data": {
      "text/plain": [
       "array([ 0.        ,  0.10083842,  0.20064886,  0.2984138 ,  0.39313661,\n",
       "        0.48385164,  0.56963411,  0.64960951,  0.72296256,  0.78894546,\n",
       "        0.84688556,  0.8961922 ,  0.93636273,  0.96698762,  0.98775469,\n",
       "        0.99845223,  0.99897117,  0.98930624,  0.96955595,  0.93992165,\n",
       "        0.90070545,  0.85230712,  0.79522006,  0.73002623,  0.65739025,\n",
       "        0.57805259,  0.49282204,  0.40256749,  0.30820902,  0.21070855,\n",
       "        0.11106004,  0.01027934, -0.09060615, -0.19056796, -0.28858706,\n",
       "       -0.38366419, -0.47483011, -0.56115544, -0.64176014, -0.7158225 ,\n",
       "       -0.7825875 , -0.84137452, -0.89158426, -0.93270486, -0.96431712,\n",
       "       -0.98609877, -0.99782778, -0.99938456, -0.99075324, -0.97202182,\n",
       "       -0.94338126, -0.90512352, -0.85763861, -0.80141062, -0.73701276,\n",
       "       -0.66510151, -0.58640998, -0.50174037, -0.41195583, -0.31797166,\n",
       "       -0.22074597, -0.12126992, -0.0205576 ,  0.0803643 ,  0.18046693,\n",
       "        0.27872982,  0.37415123,  0.46575841,  0.55261747,  0.63384295,\n",
       "        0.7086068 ,  0.77614685,  0.83577457,  0.8868821 ,  0.92894843,\n",
       "        0.96154471,  0.98433866,  0.99709789,  0.99969234,  0.99209556,\n",
       "        0.97438499,  0.94674118,  0.90944594,  0.86287948,  0.8075165 ,\n",
       "        0.74392141,  0.6727425 ,  0.59470541,  0.51060568,  0.42130064,\n",
       "        0.32770071,  0.23076008,  0.13146699,  0.03083368, -0.07011396,\n",
       "       -0.17034683, -0.26884313, -0.36459873, -0.45663749, -0.54402111])"
      ]
     },
     "execution_count": 33,
     "metadata": {},
     "output_type": "execute_result"
    }
   ],
   "source": [
    "# Calculating sin\n",
    "sin = np.sin(my_linspace)\n",
    "sin"
   ]
  },
  {
   "cell_type": "code",
   "execution_count": 34,
   "id": "9e6f7f05",
   "metadata": {},
   "outputs": [
    {
     "data": {
      "text/plain": [
       "-9.51619735392994e-16"
      ]
     },
     "execution_count": 34,
     "metadata": {},
     "output_type": "execute_result"
    }
   ],
   "source": [
    "# Returns determinant of matrix\n",
    "\n",
    "matrix2 = np.array([[1, 2, 3],\n",
    "                   [4, 5, 6],\n",
    "                   [7, 8, 9]])\n",
    "\n",
    "np.linalg.det(matrix2)"
   ]
  },
  {
   "cell_type": "code",
   "execution_count": 35,
   "id": "91338fce",
   "metadata": {},
   "outputs": [
    {
     "data": {
      "text/plain": [
       "array([1, 5, 9])"
      ]
     },
     "execution_count": 35,
     "metadata": {},
     "output_type": "execute_result"
    }
   ],
   "source": [
    "# Return Diagonal elements\n",
    "matrix2.diagonal()"
   ]
  },
  {
   "cell_type": "markdown",
   "id": "44e0ddb3",
   "metadata": {},
   "source": [
    "#### Retun trace\n",
    "\n",
    "The trace of a matrix is the sum of the diagonal elements and is often used under the hood in machine learning methods. Given a Numpy Multidimensional array, we can calculate the trace using the trace. We can also return the diagonal of a matrix and calculate its sum:"
   ]
  },
  {
   "cell_type": "code",
   "execution_count": 36,
   "id": "3f4393c8",
   "metadata": {},
   "outputs": [
    {
     "data": {
      "text/plain": [
       "15"
      ]
     },
     "execution_count": 36,
     "metadata": {},
     "output_type": "execute_result"
    }
   ],
   "source": [
    "matrix2.trace()"
   ]
  },
  {
   "cell_type": "markdown",
   "id": "a62763c9",
   "metadata": {},
   "source": [
    "### Discussion\n",
    "Eigenvectors are widely used in machine learning libraries. Intuitively, given a linear transformation represented by a matrix, A, eigenvectors are vvectors that, when that transmission is applied, change only in scale(not direction). More formally:\n",
    "\n",
    "Av = λv\n",
    "\n",
    "where A is a square matrix, λ contains the eigenvalues and v contains the eigenvectors. In Numpy's linear algebra toolset, eig let us calculate the eigenvalues, and eigenvectors of any square matrix."
   ]
  },
  {
   "cell_type": "code",
   "execution_count": 37,
   "id": "a90e630e",
   "metadata": {},
   "outputs": [
    {
     "data": {
      "text/plain": [
       "(array([ 1.61168440e+01, -1.11684397e+00, -3.38433605e-16]),\n",
       " array([[-0.23197069, -0.78583024,  0.40824829],\n",
       "        [-0.52532209, -0.08675134, -0.81649658],\n",
       "        [-0.8186735 ,  0.61232756,  0.40824829]]))"
      ]
     },
     "execution_count": 37,
     "metadata": {},
     "output_type": "execute_result"
    }
   ],
   "source": [
    "# Calculate eigenvalues and eigenvectors\n",
    "\n",
    "eigenvalues, eigenvectors = np.linalg.eig(matrix2)\n",
    "\n",
    "np.linalg.eig(matrix2)"
   ]
  },
  {
   "cell_type": "code",
   "execution_count": 38,
   "id": "fc31d60c",
   "metadata": {},
   "outputs": [
    {
     "data": {
      "text/plain": [
       "32"
      ]
     },
     "execution_count": 38,
     "metadata": {},
     "output_type": "execute_result"
    }
   ],
   "source": [
    "# Calculate  the dot product\n",
    "# Create two vectors\n",
    "\n",
    "vector_a = np.array([1,2,3])\n",
    "vector_b = np.array([4,5,6])\n",
    "\n",
    "np.dot(vector_a, vector_b)"
   ]
  },
  {
   "cell_type": "code",
   "execution_count": null,
   "id": "08584b58",
   "metadata": {},
   "outputs": [],
   "source": []
  }
 ],
 "metadata": {
  "kernelspec": {
   "display_name": "Python 3 (ipykernel)",
   "language": "python",
   "name": "python3"
  },
  "language_info": {
   "codemirror_mode": {
    "name": "ipython",
    "version": 3
   },
   "file_extension": ".py",
   "mimetype": "text/x-python",
   "name": "python",
   "nbconvert_exporter": "python",
   "pygments_lexer": "ipython3",
   "version": "3.10.9"
  }
 },
 "nbformat": 4,
 "nbformat_minor": 5
}
